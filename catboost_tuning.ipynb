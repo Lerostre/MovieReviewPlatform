{
  "metadata": {
    "kernelspec": {
      "display_name": "Python 3",
      "name": "python3"
    },
    "language_info": {
      "name": "python",
      "version": "3.10.12",
      "mimetype": "text/x-python",
      "codemirror_mode": {
        "name": "ipython",
        "version": 3
      },
      "pygments_lexer": "ipython3",
      "nbconvert_exporter": "python",
      "file_extension": ".py"
    },
    "colab": {
      "provenance": [],
      "gpuType": "T4"
    },
    "accelerator": "GPU",
    "widgets": {
      "application/vnd.jupyter.widget-state+json": {
        "9e52896f61c048489b1b667261b3eb91": {
          "model_module": "@jupyter-widgets/controls",
          "model_name": "HBoxModel",
          "model_module_version": "1.5.0",
          "state": {
            "_dom_classes": [],
            "_model_module": "@jupyter-widgets/controls",
            "_model_module_version": "1.5.0",
            "_model_name": "HBoxModel",
            "_view_count": null,
            "_view_module": "@jupyter-widgets/controls",
            "_view_module_version": "1.5.0",
            "_view_name": "HBoxView",
            "box_style": "",
            "children": [
              "IPY_MODEL_4cd1c1d47c33440d918725133a4b248b",
              "IPY_MODEL_a2ac980a63774c0bba7915ab187189ef",
              "IPY_MODEL_c69b97a24ff445d3982c6281848e5e1e"
            ],
            "layout": "IPY_MODEL_1a973c5df82f4ebab3ea1aa7675b5cc1"
          }
        },
        "4cd1c1d47c33440d918725133a4b248b": {
          "model_module": "@jupyter-widgets/controls",
          "model_name": "HTMLModel",
          "model_module_version": "1.5.0",
          "state": {
            "_dom_classes": [],
            "_model_module": "@jupyter-widgets/controls",
            "_model_module_version": "1.5.0",
            "_model_name": "HTMLModel",
            "_view_count": null,
            "_view_module": "@jupyter-widgets/controls",
            "_view_module_version": "1.5.0",
            "_view_name": "HTMLView",
            "description": "",
            "description_tooltip": null,
            "layout": "IPY_MODEL_fb70fa7782324f67bab1b8fca3ab11ae",
            "placeholder": "​",
            "style": "IPY_MODEL_265e6e955a4344eba10d70e37a393d21",
            "value": "Best trial: 3. Best value: 0.90328:  15%"
          }
        },
        "a2ac980a63774c0bba7915ab187189ef": {
          "model_module": "@jupyter-widgets/controls",
          "model_name": "FloatProgressModel",
          "model_module_version": "1.5.0",
          "state": {
            "_dom_classes": [],
            "_model_module": "@jupyter-widgets/controls",
            "_model_module_version": "1.5.0",
            "_model_name": "FloatProgressModel",
            "_view_count": null,
            "_view_module": "@jupyter-widgets/controls",
            "_view_module_version": "1.5.0",
            "_view_name": "ProgressView",
            "bar_style": "",
            "description": "",
            "description_tooltip": null,
            "layout": "IPY_MODEL_91c0df8f6fe64545b0585773c938dc7d",
            "max": 100,
            "min": 0,
            "orientation": "horizontal",
            "style": "IPY_MODEL_8010be1256b7441b82070793cece4ea9",
            "value": 15
          }
        },
        "c69b97a24ff445d3982c6281848e5e1e": {
          "model_module": "@jupyter-widgets/controls",
          "model_name": "HTMLModel",
          "model_module_version": "1.5.0",
          "state": {
            "_dom_classes": [],
            "_model_module": "@jupyter-widgets/controls",
            "_model_module_version": "1.5.0",
            "_model_name": "HTMLModel",
            "_view_count": null,
            "_view_module": "@jupyter-widgets/controls",
            "_view_module_version": "1.5.0",
            "_view_name": "HTMLView",
            "description": "",
            "description_tooltip": null,
            "layout": "IPY_MODEL_aff829f4c10e4505bdebf3d7fe120f7d",
            "placeholder": "​",
            "style": "IPY_MODEL_3b6f0cf92dc148668ce507004a532886",
            "value": " 15/100 [3:29:55&lt;15:21:50, 650.72s/it]"
          }
        },
        "1a973c5df82f4ebab3ea1aa7675b5cc1": {
          "model_module": "@jupyter-widgets/base",
          "model_name": "LayoutModel",
          "model_module_version": "1.2.0",
          "state": {
            "_model_module": "@jupyter-widgets/base",
            "_model_module_version": "1.2.0",
            "_model_name": "LayoutModel",
            "_view_count": null,
            "_view_module": "@jupyter-widgets/base",
            "_view_module_version": "1.2.0",
            "_view_name": "LayoutView",
            "align_content": null,
            "align_items": null,
            "align_self": null,
            "border": null,
            "bottom": null,
            "display": null,
            "flex": null,
            "flex_flow": null,
            "grid_area": null,
            "grid_auto_columns": null,
            "grid_auto_flow": null,
            "grid_auto_rows": null,
            "grid_column": null,
            "grid_gap": null,
            "grid_row": null,
            "grid_template_areas": null,
            "grid_template_columns": null,
            "grid_template_rows": null,
            "height": null,
            "justify_content": null,
            "justify_items": null,
            "left": null,
            "margin": null,
            "max_height": null,
            "max_width": null,
            "min_height": null,
            "min_width": null,
            "object_fit": null,
            "object_position": null,
            "order": null,
            "overflow": null,
            "overflow_x": null,
            "overflow_y": null,
            "padding": null,
            "right": null,
            "top": null,
            "visibility": null,
            "width": null
          }
        },
        "fb70fa7782324f67bab1b8fca3ab11ae": {
          "model_module": "@jupyter-widgets/base",
          "model_name": "LayoutModel",
          "model_module_version": "1.2.0",
          "state": {
            "_model_module": "@jupyter-widgets/base",
            "_model_module_version": "1.2.0",
            "_model_name": "LayoutModel",
            "_view_count": null,
            "_view_module": "@jupyter-widgets/base",
            "_view_module_version": "1.2.0",
            "_view_name": "LayoutView",
            "align_content": null,
            "align_items": null,
            "align_self": null,
            "border": null,
            "bottom": null,
            "display": null,
            "flex": null,
            "flex_flow": null,
            "grid_area": null,
            "grid_auto_columns": null,
            "grid_auto_flow": null,
            "grid_auto_rows": null,
            "grid_column": null,
            "grid_gap": null,
            "grid_row": null,
            "grid_template_areas": null,
            "grid_template_columns": null,
            "grid_template_rows": null,
            "height": null,
            "justify_content": null,
            "justify_items": null,
            "left": null,
            "margin": null,
            "max_height": null,
            "max_width": null,
            "min_height": null,
            "min_width": null,
            "object_fit": null,
            "object_position": null,
            "order": null,
            "overflow": null,
            "overflow_x": null,
            "overflow_y": null,
            "padding": null,
            "right": null,
            "top": null,
            "visibility": null,
            "width": null
          }
        },
        "265e6e955a4344eba10d70e37a393d21": {
          "model_module": "@jupyter-widgets/controls",
          "model_name": "DescriptionStyleModel",
          "model_module_version": "1.5.0",
          "state": {
            "_model_module": "@jupyter-widgets/controls",
            "_model_module_version": "1.5.0",
            "_model_name": "DescriptionStyleModel",
            "_view_count": null,
            "_view_module": "@jupyter-widgets/base",
            "_view_module_version": "1.2.0",
            "_view_name": "StyleView",
            "description_width": ""
          }
        },
        "91c0df8f6fe64545b0585773c938dc7d": {
          "model_module": "@jupyter-widgets/base",
          "model_name": "LayoutModel",
          "model_module_version": "1.2.0",
          "state": {
            "_model_module": "@jupyter-widgets/base",
            "_model_module_version": "1.2.0",
            "_model_name": "LayoutModel",
            "_view_count": null,
            "_view_module": "@jupyter-widgets/base",
            "_view_module_version": "1.2.0",
            "_view_name": "LayoutView",
            "align_content": null,
            "align_items": null,
            "align_self": null,
            "border": null,
            "bottom": null,
            "display": null,
            "flex": null,
            "flex_flow": null,
            "grid_area": null,
            "grid_auto_columns": null,
            "grid_auto_flow": null,
            "grid_auto_rows": null,
            "grid_column": null,
            "grid_gap": null,
            "grid_row": null,
            "grid_template_areas": null,
            "grid_template_columns": null,
            "grid_template_rows": null,
            "height": null,
            "justify_content": null,
            "justify_items": null,
            "left": null,
            "margin": null,
            "max_height": null,
            "max_width": null,
            "min_height": null,
            "min_width": null,
            "object_fit": null,
            "object_position": null,
            "order": null,
            "overflow": null,
            "overflow_x": null,
            "overflow_y": null,
            "padding": null,
            "right": null,
            "top": null,
            "visibility": null,
            "width": null
          }
        },
        "8010be1256b7441b82070793cece4ea9": {
          "model_module": "@jupyter-widgets/controls",
          "model_name": "ProgressStyleModel",
          "model_module_version": "1.5.0",
          "state": {
            "_model_module": "@jupyter-widgets/controls",
            "_model_module_version": "1.5.0",
            "_model_name": "ProgressStyleModel",
            "_view_count": null,
            "_view_module": "@jupyter-widgets/base",
            "_view_module_version": "1.2.0",
            "_view_name": "StyleView",
            "bar_color": null,
            "description_width": ""
          }
        },
        "aff829f4c10e4505bdebf3d7fe120f7d": {
          "model_module": "@jupyter-widgets/base",
          "model_name": "LayoutModel",
          "model_module_version": "1.2.0",
          "state": {
            "_model_module": "@jupyter-widgets/base",
            "_model_module_version": "1.2.0",
            "_model_name": "LayoutModel",
            "_view_count": null,
            "_view_module": "@jupyter-widgets/base",
            "_view_module_version": "1.2.0",
            "_view_name": "LayoutView",
            "align_content": null,
            "align_items": null,
            "align_self": null,
            "border": null,
            "bottom": null,
            "display": null,
            "flex": null,
            "flex_flow": null,
            "grid_area": null,
            "grid_auto_columns": null,
            "grid_auto_flow": null,
            "grid_auto_rows": null,
            "grid_column": null,
            "grid_gap": null,
            "grid_row": null,
            "grid_template_areas": null,
            "grid_template_columns": null,
            "grid_template_rows": null,
            "height": null,
            "justify_content": null,
            "justify_items": null,
            "left": null,
            "margin": null,
            "max_height": null,
            "max_width": null,
            "min_height": null,
            "min_width": null,
            "object_fit": null,
            "object_position": null,
            "order": null,
            "overflow": null,
            "overflow_x": null,
            "overflow_y": null,
            "padding": null,
            "right": null,
            "top": null,
            "visibility": null,
            "width": null
          }
        },
        "3b6f0cf92dc148668ce507004a532886": {
          "model_module": "@jupyter-widgets/controls",
          "model_name": "DescriptionStyleModel",
          "model_module_version": "1.5.0",
          "state": {
            "_model_module": "@jupyter-widgets/controls",
            "_model_module_version": "1.5.0",
            "_model_name": "DescriptionStyleModel",
            "_view_count": null,
            "_view_module": "@jupyter-widgets/base",
            "_view_module_version": "1.2.0",
            "_view_name": "StyleView",
            "description_width": ""
          }
        }
      }
    }
  },
  "nbformat_minor": 0,
  "nbformat": 4,
  "cells": [
    {
      "cell_type": "code",
      "source": [
        "import glob\n",
        "from tqdm.auto import tqdm\n",
        "\n",
        "X = []\n",
        "\n",
        "for dataset in [\"train\", \"test\"]:\n",
        "    for sentiment in [\"neg\", \"pos\"]:\n",
        "        for file in tqdm(glob.glob(f\"/kaggle/input/aclimdb/aclImdb/{dataset}/{sentiment}/*.txt\")):\n",
        "            with open(file, \"r\") as f:\n",
        "                X.append({\"text\": f.read(), \"dataset\": dataset, \"target\": sentiment})"
      ],
      "metadata": {
        "_uuid": "8f2839f25d086af736a60e9eeb907d3b93b6e0e5",
        "_cell_guid": "b1076dfc-b9ad-4769-8c92-a6c4dae69d19",
        "execution": {
          "iopub.status.busy": "2023-07-28T11:08:45.036533Z",
          "iopub.execute_input": "2023-07-28T11:08:45.037017Z",
          "iopub.status.idle": "2023-07-28T11:09:17.267384Z",
          "shell.execute_reply.started": "2023-07-28T11:08:45.036980Z",
          "shell.execute_reply": "2023-07-28T11:09:17.266021Z"
        },
        "trusted": true,
        "colab": {
          "referenced_widgets": [
            "4167163c3d0a41e9823176a3f990da6f",
            "cec46ef523dc48cfb2d7d5c8f3140935",
            "8d8e521c9fda4dfbbf10d197013cf801",
            "df345f60ac0e4cb6af773f4ba2c16908"
          ]
        },
        "id": "8ejHyrfyJjqK",
        "outputId": "675ea046-0279-4626-9553-12b2f7c9f3d1"
      },
      "execution_count": null,
      "outputs": [
        {
          "output_type": "display_data",
          "data": {
            "text/plain": "  0%|          | 0/12500 [00:00<?, ?it/s]",
            "application/vnd.jupyter.widget-view+json": {
              "version_major": 2,
              "version_minor": 0,
              "model_id": "4167163c3d0a41e9823176a3f990da6f"
            }
          },
          "metadata": {}
        },
        {
          "output_type": "display_data",
          "data": {
            "text/plain": "  0%|          | 0/12500 [00:00<?, ?it/s]",
            "application/vnd.jupyter.widget-view+json": {
              "version_major": 2,
              "version_minor": 0,
              "model_id": "cec46ef523dc48cfb2d7d5c8f3140935"
            }
          },
          "metadata": {}
        },
        {
          "output_type": "display_data",
          "data": {
            "text/plain": "  0%|          | 0/12500 [00:00<?, ?it/s]",
            "application/vnd.jupyter.widget-view+json": {
              "version_major": 2,
              "version_minor": 0,
              "model_id": "8d8e521c9fda4dfbbf10d197013cf801"
            }
          },
          "metadata": {}
        },
        {
          "output_type": "display_data",
          "data": {
            "text/plain": "  0%|          | 0/12500 [00:00<?, ?it/s]",
            "application/vnd.jupyter.widget-view+json": {
              "version_major": 2,
              "version_minor": 0,
              "model_id": "df345f60ac0e4cb6af773f4ba2c16908"
            }
          },
          "metadata": {}
        }
      ]
    },
    {
      "cell_type": "code",
      "source": [
        "!pip install optuna -q\n",
        "!pip install catboost -q"
      ],
      "metadata": {
        "colab": {
          "base_uri": "https://localhost:8080/"
        },
        "id": "qv1gYptqKFtS",
        "outputId": "8c5bb32b-1468-4955-c40a-dfaa3252ddd4"
      },
      "execution_count": null,
      "outputs": [
        {
          "output_type": "stream",
          "name": "stdout",
          "text": [
            "\u001b[2K     \u001b[90m━━━━━━━━━━━━━━━━━━━━━━━━━━━━━━━━━━━━━━━\u001b[0m \u001b[32m390.6/390.6 kB\u001b[0m \u001b[31m6.3 MB/s\u001b[0m eta \u001b[36m0:00:00\u001b[0m\n",
            "\u001b[2K     \u001b[90m━━━━━━━━━━━━━━━━━━━━━━━━━━━━━━━━━━━━━━\u001b[0m \u001b[32m224.5/224.5 kB\u001b[0m \u001b[31m10.5 MB/s\u001b[0m eta \u001b[36m0:00:00\u001b[0m\n",
            "\u001b[2K     \u001b[90m━━━━━━━━━━━━━━━━━━━━━━━━━━━━━━━━━━━━━━━━\u001b[0m \u001b[32m78.7/78.7 kB\u001b[0m \u001b[31m7.2 MB/s\u001b[0m eta \u001b[36m0:00:00\u001b[0m\n",
            "\u001b[2K     \u001b[90m━━━━━━━━━━━━━━━━━━━━━━━━━━━━━━━━━━━━━━━━\u001b[0m \u001b[32m98.6/98.6 MB\u001b[0m \u001b[31m11.0 MB/s\u001b[0m eta \u001b[36m0:00:00\u001b[0m\n",
            "\u001b[?25h"
          ]
        }
      ]
    },
    {
      "cell_type": "code",
      "source": [
        "import pandas as pd\n",
        "import numpy as np\n",
        "import seaborn as sns\n",
        "import optuna\n",
        "import time\n",
        "from collections import defaultdict\n",
        "from tqdm.auto import tqdm\n",
        "tqdm.pandas()\n",
        "\n",
        "from sklearn.preprocessing import (OneHotEncoder, StandardScaler, MinMaxScaler,\n",
        "                                   PolynomialFeatures, QuantileTransformer,\n",
        "                                   PowerTransformer, LabelEncoder)\n",
        "from sklearn.compose import ColumnTransformer\n",
        "from sklearn.pipeline import Pipeline, make_pipeline\n",
        "from sklearn.metrics import (roc_auc_score, classification_report, mean_absolute_error,\n",
        "                             accuracy_score, f1_score, average_precision_score)\n",
        "from sklearn.model_selection import (RepeatedStratifiedKFold, StratifiedKFold, KFold,\n",
        "                                     train_test_split, cross_val_score)\n",
        "from sklearn.feature_extraction.text import TfidfVectorizer\n",
        "from sklearn.calibration import CalibratedClassifierCV\n",
        "# from iterstrat.ml_stratifiers import MultilabelStratifiedKFold\n",
        "from sklearn.base import BaseEstimator, TransformerMixin, ClassifierMixin\n",
        "\n",
        "from catboost import CatBoostClassifier, CatBoostRegressor\n",
        "# from category_encoders import CatBoostEncoder\n",
        "from lightgbm import LGBMRegressor, LGBMClassifier\n",
        "from xgboost import XGBRegressor, XGBClassifier\n",
        "from sklearn.naive_bayes import BernoulliNB, GaussianNB, MultinomialNB\n",
        "from sklearn.ensemble import (RandomForestClassifier, RandomForestRegressor,\n",
        "                              HistGradientBoostingRegressor,\n",
        "                              HistGradientBoostingClassifier,\n",
        "                              StackingClassifier, StackingRegressor,\n",
        "                              VotingClassifier, VotingRegressor)\n",
        "from sklearn.svm import LinearSVC, LinearSVR\n",
        "from sklearn.linear_model import LogisticRegression, LinearRegression"
      ],
      "metadata": {
        "scrolled": true,
        "execution": {
          "iopub.status.busy": "2023-07-29T09:59:57.091713Z",
          "iopub.execute_input": "2023-07-29T09:59:57.092716Z",
          "iopub.status.idle": "2023-07-29T10:00:02.894019Z",
          "shell.execute_reply.started": "2023-07-29T09:59:57.092674Z",
          "shell.execute_reply": "2023-07-29T10:00:02.892685Z"
        },
        "trusted": true,
        "id": "3PsW8jAdJjqL"
      },
      "execution_count": null,
      "outputs": []
    },
    {
      "cell_type": "code",
      "source": [
        "X = pd.read_csv(\"train_tokenized.csv\")\n",
        "X_test = pd.read_csv(\"test_tokenized.csv\")\n",
        "\n",
        "encoder = LabelEncoder()\n",
        "\n",
        "y = encoder.fit_transform(X[\"target\"])\n",
        "X = X.drop([\"target\"], axis=1)\n",
        "\n",
        "y_test = encoder.transform(X_test[\"target\"])\n",
        "X_test = X_test.drop([\"target\"], axis=1)"
      ],
      "metadata": {
        "execution": {
          "iopub.status.busy": "2023-07-29T09:00:09.637484Z",
          "iopub.execute_input": "2023-07-29T09:00:09.638164Z",
          "iopub.status.idle": "2023-07-29T09:00:11.442806Z",
          "shell.execute_reply.started": "2023-07-29T09:00:09.638128Z",
          "shell.execute_reply": "2023-07-29T09:00:11.441658Z"
        },
        "trusted": true,
        "id": "oF43hDOmJjqO"
      },
      "execution_count": null,
      "outputs": []
    },
    {
      "cell_type": "code",
      "source": [
        "np.random.seed(69)\n",
        "\n",
        "def cb_objective(trial):\n",
        "    params = {\n",
        "#         'learning_rate': trial.suggest_float('learning_rate', 1e-4, 1e-1, log=True),\n",
        "        'max_depth': trial.suggest_int('max_depth', 2, 10),\n",
        "        'subsample': trial.suggest_float('subsample', 0.1, 1),\n",
        "#         'colsample_bylevel': trial.suggest_float('colsample_bylevel', 5e-1, 1),\n",
        "        'l2_leaf_reg': trial.suggest_float('l2_leaf_reg', 1e-2, 1e4),\n",
        "        'min_child_samples': trial.suggest_int('min_child_samples', 1, 15),\n",
        "        'n_estimators': trial.suggest_int('n_estimators', 100, 3000),\n",
        "        'random_state': 69,\n",
        "        \"bootstrap_type\": trial.suggest_categorical(\n",
        "            \"bootstrap_type\", [\n",
        "                \"Poisson\",\n",
        "                \"Bernoulli\",\n",
        "                \"MVS\"]\n",
        "        ),\n",
        "        'verbose': 0,\n",
        "        \"task_type\": \"GPU\",\n",
        "        'text_features': ['text']\n",
        "    }\n",
        "#     params = {\n",
        "#         \"iterations\": 1000,\n",
        "#         \"learning_rate\": trial.suggest_float(\"learning_rate\", 1e-3, 0.1, log=True),\n",
        "#         \"depth\": trial.suggest_int(\"depth\", 1, 10),\n",
        "#         \"subsample\": trial.suggest_float(\"subsample\", 0.05, 1.0),\n",
        "#         \"colsample_bylevel\": trial.suggest_float(\"colsample_bylevel\", 0.05, 1.0),\n",
        "#         \"min_data_in_leaf\": trial.suggest_int(\"min_data_in_leaf\", 1, 100),\n",
        "#         'verbose': 0,\n",
        "#         'text_features': ['text'],\n",
        "#         }\n",
        "\n",
        "#     'eval_set': (X_val, y_val),\n",
        "#     \"od_type\": \"Iter\"\n",
        "\n",
        "    model = CatBoostClassifier(**params)\n",
        "    optuna_score = cross_val_score(model, X, y, scoring=\"accuracy\", cv=5)\n",
        "\n",
        "    return np.mean(optuna_score)\n",
        "\n",
        "cb_study = optuna.create_study(direction = 'maximize')\n",
        "cb_study.optimize(cb_objective, n_trials=100, show_progress_bar=True, n_jobs=1)"
      ],
      "metadata": {
        "scrolled": true,
        "execution": {
          "iopub.status.busy": "2023-07-29T10:01:57.169819Z",
          "iopub.execute_input": "2023-07-29T10:01:57.170321Z"
        },
        "trusted": true,
        "colab": {
          "base_uri": "https://localhost:8080/",
          "height": 361,
          "referenced_widgets": [
            "9e52896f61c048489b1b667261b3eb91",
            "4cd1c1d47c33440d918725133a4b248b",
            "a2ac980a63774c0bba7915ab187189ef",
            "c69b97a24ff445d3982c6281848e5e1e",
            "1a973c5df82f4ebab3ea1aa7675b5cc1",
            "fb70fa7782324f67bab1b8fca3ab11ae",
            "265e6e955a4344eba10d70e37a393d21",
            "91c0df8f6fe64545b0585773c938dc7d",
            "8010be1256b7441b82070793cece4ea9",
            "aff829f4c10e4505bdebf3d7fe120f7d",
            "3b6f0cf92dc148668ce507004a532886"
          ]
        },
        "id": "5APFedc2JjqQ",
        "outputId": "83be6c70-5ebd-42fc-ba93-7d25b3cb974f"
      },
      "execution_count": null,
      "outputs": [
        {
          "output_type": "stream",
          "name": "stderr",
          "text": [
            "[I 2023-07-31 00:20:03,631] A new study created in memory with name: no-name-162310bc-1cda-4483-89a1-8b0625ae8acb\n"
          ]
        },
        {
          "output_type": "display_data",
          "data": {
            "text/plain": [
              "  0%|          | 0/100 [00:00<?, ?it/s]"
            ],
            "application/vnd.jupyter.widget-view+json": {
              "version_major": 2,
              "version_minor": 0,
              "model_id": "9e52896f61c048489b1b667261b3eb91"
            }
          },
          "metadata": {}
        },
        {
          "output_type": "stream",
          "name": "stdout",
          "text": [
            "[I 2023-07-31 01:03:17,285] Trial 0 finished with value: 0.8738400000000001 and parameters: {'max_depth': 9, 'subsample': 0.7683331210668142, 'l2_leaf_reg': 6907.936079859354, 'min_child_samples': 12, 'n_estimators': 2692, 'bootstrap_type': 'Poisson'}. Best is trial 0 with value: 0.8738400000000001.\n",
            "[I 2023-07-31 01:04:17,578] Trial 1 finished with value: 0.8462 and parameters: {'max_depth': 4, 'subsample': 0.5949678591727032, 'l2_leaf_reg': 9033.052297878889, 'min_child_samples': 13, 'n_estimators': 172, 'bootstrap_type': 'Bernoulli'}. Best is trial 0 with value: 0.8738400000000001.\n",
            "[I 2023-07-31 01:05:18,727] Trial 2 finished with value: 0.53728 and parameters: {'max_depth': 8, 'subsample': 0.1905529413763274, 'l2_leaf_reg': 9485.01268213737, 'min_child_samples': 4, 'n_estimators': 187, 'bootstrap_type': 'MVS'}. Best is trial 0 with value: 0.8738400000000001.\n",
            "[I 2023-07-31 01:43:07,128] Trial 3 finished with value: 0.90328 and parameters: {'max_depth': 9, 'subsample': 0.7632869033205484, 'l2_leaf_reg': 52.516408293971395, 'min_child_samples': 9, 'n_estimators': 2391, 'bootstrap_type': 'Poisson'}. Best is trial 3 with value: 0.90328.\n",
            "[I 2023-07-31 01:44:16,925] Trial 4 finished with value: 0.8536400000000001 and parameters: {'max_depth': 6, 'subsample': 0.8820473432878494, 'l2_leaf_reg': 7997.947890112526, 'min_child_samples': 5, 'n_estimators': 245, 'bootstrap_type': 'Poisson'}. Best is trial 3 with value: 0.90328.\n",
            "[I 2023-07-31 01:45:25,968] Trial 5 finished with value: 0.8568000000000001 and parameters: {'max_depth': 5, 'subsample': 0.5860728427652139, 'l2_leaf_reg': 4817.89663899856, 'min_child_samples': 8, 'n_estimators': 260, 'bootstrap_type': 'Bernoulli'}. Best is trial 3 with value: 0.90328.\n",
            "[I 2023-07-31 01:50:53,496] Trial 6 finished with value: 0.8492000000000001 and parameters: {'max_depth': 9, 'subsample': 0.9419876814848391, 'l2_leaf_reg': 3713.556447063829, 'min_child_samples': 12, 'n_estimators': 1829, 'bootstrap_type': 'MVS'}. Best is trial 3 with value: 0.90328.\n",
            "[I 2023-07-31 01:52:08,732] Trial 7 finished with value: 0.7118800000000001 and parameters: {'max_depth': 10, 'subsample': 0.754946497168076, 'l2_leaf_reg': 6423.381352698787, 'min_child_samples': 5, 'n_estimators': 343, 'bootstrap_type': 'MVS'}. Best is trial 3 with value: 0.90328.\n",
            "[I 2023-07-31 03:11:03,872] Trial 8 finished with value: 0.87172 and parameters: {'max_depth': 10, 'subsample': 0.8705268079360744, 'l2_leaf_reg': 7484.109324093418, 'min_child_samples': 2, 'n_estimators': 2737, 'bootstrap_type': 'Bernoulli'}. Best is trial 3 with value: 0.90328.\n",
            "[I 2023-07-31 03:16:28,172] Trial 9 finished with value: 0.87736 and parameters: {'max_depth': 4, 'subsample': 0.8393662261254999, 'l2_leaf_reg': 4706.132791803513, 'min_child_samples': 2, 'n_estimators': 2226, 'bootstrap_type': 'Poisson'}. Best is trial 3 with value: 0.90328.\n",
            "[I 2023-07-31 03:19:24,957] Trial 10 finished with value: 0.88072 and parameters: {'max_depth': 2, 'subsample': 0.3630463964863275, 'l2_leaf_reg': 294.70151685187193, 'min_child_samples': 9, 'n_estimators': 1215, 'bootstrap_type': 'Poisson'}. Best is trial 3 with value: 0.90328.\n",
            "[I 2023-07-31 03:22:07,424] Trial 11 finished with value: 0.87888 and parameters: {'max_depth': 2, 'subsample': 0.3663190939637153, 'l2_leaf_reg': 257.09889576475007, 'min_child_samples': 9, 'n_estimators': 1075, 'bootstrap_type': 'Poisson'}. Best is trial 3 with value: 0.90328.\n",
            "[I 2023-07-31 03:25:27,581] Trial 12 finished with value: 0.8838000000000001 and parameters: {'max_depth': 2, 'subsample': 0.3985078236431911, 'l2_leaf_reg': 165.4227446728795, 'min_child_samples': 9, 'n_estimators': 1434, 'bootstrap_type': 'Poisson'}. Best is trial 3 with value: 0.90328.\n",
            "[I 2023-07-31 03:37:21,271] Trial 13 finished with value: 0.8869200000000002 and parameters: {'max_depth': 7, 'subsample': 0.9981796219276722, 'l2_leaf_reg': 1738.8353158687332, 'min_child_samples': 8, 'n_estimators': 2022, 'bootstrap_type': 'Poisson'}. Best is trial 3 with value: 0.90328.\n",
            "[I 2023-07-31 03:49:58,901] Trial 14 finished with value: 0.8872 and parameters: {'max_depth': 7, 'subsample': 0.9720714694146662, 'l2_leaf_reg': 1849.5976338270702, 'min_child_samples': 7, 'n_estimators': 2137, 'bootstrap_type': 'Poisson'}. Best is trial 3 with value: 0.90328.\n"
          ]
        }
      ]
    },
    {
      "cell_type": "code",
      "source": [
        "cb_study.best_value"
      ],
      "metadata": {
        "execution": {
          "iopub.status.busy": "2023-07-29T01:12:50.327601Z",
          "iopub.status.idle": "2023-07-29T01:12:50.330605Z",
          "shell.execute_reply.started": "2023-07-29T01:12:50.330232Z",
          "shell.execute_reply": "2023-07-29T01:12:50.330267Z"
        },
        "trusted": true,
        "id": "jGH2NI0AJjqR"
      },
      "execution_count": null,
      "outputs": []
    },
    {
      "cell_type": "code",
      "source": [
        "cb_study.best_params"
      ],
      "metadata": {
        "execution": {
          "iopub.status.busy": "2023-07-29T01:12:50.335096Z",
          "iopub.status.idle": "2023-07-29T01:12:50.338295Z",
          "shell.execute_reply.started": "2023-07-29T01:12:50.337961Z",
          "shell.execute_reply": "2023-07-29T01:12:50.338008Z"
        },
        "trusted": true,
        "id": "a6ze-RJFJjqR"
      },
      "execution_count": null,
      "outputs": []
    }
  ]
}